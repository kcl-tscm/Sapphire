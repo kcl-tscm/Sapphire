{
 "cells": [
  {
   "cell_type": "markdown",
   "metadata": {},
   "source": [
    "## This notebook serves as a simple example on how to run the clustering algorithm on a MD trajectory file"
   ]
  },
  {
   "cell_type": "code",
   "execution_count": 1,
   "metadata": {},
   "outputs": [
    {
     "name": "stderr",
     "output_type": "stream",
     "text": [
      "/home/claudio/postdoc/venv/raffy/lib/python3.8/site-packages/ray/autoscaler/_private/cli_logger.py:57: FutureWarning: Not all Ray CLI dependencies were found. In Ray 1.4+, the Ray CLI, autoscaler, and dashboard will only be usable via `pip install 'ray[default]'`. Please update your install command.\n",
      "  warnings.warn(\n"
     ]
    }
   ],
   "source": [
    "from raffy import trajectory_cluster as tc"
   ]
  },
  {
   "cell_type": "code",
   "execution_count": 3,
   "metadata": {},
   "outputs": [
    {
     "name": "stdout",
     "output_type": "stream",
     "text": [
      "Finished. The Labeled trajectory file          can be found at data/Au/example_clustered_k=4_cut=5.17.xyz\n"
     ]
    }
   ],
   "source": [
    "# Choose parameters\n",
    "\n",
    "frames = ':'  # Indicate which frames to analyse\n",
    "k = 4  # Number of clusters to be found\n",
    "ncores = 1  # For multiprocessing, requires the ray package\n",
    "cut = 4.42  # Cutoff in Angstrom of the descriptor. If not specified it is automatically set\n",
    "filename = \"data/Au/example.xyz\" # The trajectory file can be in .xyz or .dump format\n",
    "\n",
    "# Run the clustering. This will generate another .xyz file containing the label of each atom in a \"tags\" column.\n",
    "tc.trajectory_cluster(filename, index = frames, k = k, ncores = ncores, cut=cut)"
   ]
  },
  {
   "cell_type": "code",
   "execution_count": null,
   "metadata": {},
   "outputs": [],
   "source": []
  }
 ],
 "metadata": {
  "kernelspec": {
   "display_name": "raffy",
   "language": "python",
   "name": "raffy"
  },
  "language_info": {
   "codemirror_mode": {
    "name": "ipython",
    "version": 3
   },
   "file_extension": ".py",
   "mimetype": "text/x-python",
   "name": "python",
   "nbconvert_exporter": "python",
   "pygments_lexer": "ipython3",
   "version": "3.8.5"
  }
 },
 "nbformat": 4,
 "nbformat_minor": 4
}
