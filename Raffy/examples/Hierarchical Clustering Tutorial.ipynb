{
 "cells": [
  {
   "cell_type": "markdown",
   "metadata": {},
   "source": [
    "# Overview\n",
    "\n",
    "This notebook presents step-by-step the algorithm used for hierarchical clustering of local atomic environments.\n",
    "\n",
    "In this example, some snapshots from a single MD trajectory are taken to consturct the hierarchical clustering. Usually, clearer results are obtained when multiple MD trajectories, containing structures (nanoparticles) with different numbers of atoms, are used."
   ]
  },
  {
   "cell_type": "code",
   "execution_count": 1,
   "metadata": {},
   "outputs": [
    {
     "name": "stderr",
     "output_type": "stream",
     "text": [
      "/home/claudio/postdoc/venv/raffy/lib/python3.8/site-packages/ray/autoscaler/_private/cli_logger.py:57: FutureWarning: Not all Ray CLI dependencies were found. In Ray 1.4+, the Ray CLI, autoscaler, and dashboard will only be usable via `pip install 'ray[default]'`. Please update your install command.\n",
      "  warnings.warn(\n"
     ]
    }
   ],
   "source": [
    "from raffy import trajectory_cluster as tc\n",
    "from sklearn.cluster import KMeans\n",
    "from ase.io import read, write\n",
    "from ase.io.extxyz import write_extxyz\n",
    "import numpy as np\n",
    "import json\n",
    "\n",
    "def get_labels(vects, clusters):\n",
    "    means = np.array(clusters['means'])\n",
    "    stds = np.array(clusters['stds'])\n",
    "    a = np.sum(((vects[:, None, :] - means[None, :, :])/stds[None, :, :])**2, axis = 2)\n",
    "    labels = np.argmin(a, axis = 1)\n",
    "    return labels\n",
    "\n",
    "np.random.seed(42)"
   ]
  },
  {
   "cell_type": "markdown",
   "metadata": {},
   "source": [
    "## Compute all Local Atomic Environment Descriptors"
   ]
  },
  {
   "cell_type": "code",
   "execution_count": 2,
   "metadata": {},
   "outputs": [
    {
     "name": "stdout",
     "output_type": "stream",
     "text": [
      "Finished. The Labeled trajectory file          can be found at data/Au/example_clustered_k=4_cut=4.42.xyz\n"
     ]
    }
   ],
   "source": [
    "# This can take a while (~30 minutes for this example of a MD trajectory of Au nanoparticle containing >2800 atoms)\n",
    "frames = ':'  # Indicate which frames to analyse.\n",
    "k = 4  # Number of clusters to be found\n",
    "filename = \"data/Au/example.xyz\" # The trajectory file can be in .xyz or .dump format\n",
    "cut = 4.42  # Cutoff in Angstrom of the descriptor. If not specified it is automatically set\n",
    "\n",
    "tc.trajectory_cluster(filename, index = frames, k = k, cut=cut)"
   ]
  },
  {
   "cell_type": "markdown",
   "metadata": {},
   "source": [
    "## Create subset of descriptors to use for hierarchical clustering"
   ]
  },
  {
   "cell_type": "code",
   "execution_count": 4,
   "metadata": {},
   "outputs": [],
   "source": [
    "Y = np.load(\"data/Au/example_G_cut_4.42.npy\")[:, :-1]\n",
    "n = 10000\n",
    "ind = np.random.choice(np.arange(len(Y)), n, replace = False)\n",
    "ind_n = ind[:n]\n",
    "\n",
    "X = Y[ind, :]"
   ]
  },
  {
   "cell_type": "markdown",
   "metadata": {},
   "source": [
    "## First level of clustering (separate inner from surface atoms)"
   ]
  },
  {
   "cell_type": "code",
   "execution_count": 5,
   "metadata": {},
   "outputs": [
    {
     "name": "stdout",
     "output_type": "stream",
     "text": [
      "Inverting Labels\n"
     ]
    }
   ],
   "source": [
    "k=2\n",
    "kmeans = KMeans(n_clusters=k).fit(X)\n",
    "labels = kmeans.predict(Y)\n",
    "\n",
    "# Since labels 0 and 1 are randomly assigned, here we enforce 0 to be the ``inner'' label heuristically\n",
    "if Y[labels == 0].mean(axis = 0)[4] < Y[labels == 1].mean(axis = 0)[4]:\n",
    "    print(\"Inverting Labels\")\n",
    "    labels = 1 - labels"
   ]
  },
  {
   "cell_type": "markdown",
   "metadata": {},
   "source": [
    "## Second level of clustering (separate high- from low-coordination surface atoms)"
   ]
  },
  {
   "cell_type": "code",
   "execution_count": 6,
   "metadata": {},
   "outputs": [],
   "source": [
    "kmeans_surface = KMeans(n_clusters=k).fit(X[labels[ind_n] == 1])\n",
    "labels_surface = kmeans_surface.predict(Y[labels == 1])\n",
    "\n",
    "# Check the correct ordering of HS-LS atoms based on 4th component of gvector\n",
    "if Y[labels == 1][labels_surface == 0].mean(axis = 0)[4] < Y[labels == 1][labels_surface == 1].mean(axis = 0)[4]:\n",
    "    print('Inverting high- and low-coordination surface labels')\n",
    "    labels_surface = 1 - labels_surface\n",
    "    \n",
    "# Label values are: 0: Solid inner, 1: Liquid inner, 2: Solid high-coord. surface, 3: Liquid high-coord surface,\n",
    "# 4: Solid low-coord. surface, 5: Liquid low-coord surface, 4: \n",
    "labels *=2\n",
    "labels[labels == 2] += 2*labels_surface"
   ]
  },
  {
   "cell_type": "markdown",
   "metadata": {},
   "source": [
    "## Third level of clustering (separate liquid from solid atoms)"
   ]
  },
  {
   "cell_type": "code",
   "execution_count": 7,
   "metadata": {},
   "outputs": [],
   "source": [
    "# Solid from liquid inner\n",
    "kmeans_bulk = KMeans(n_clusters=k).fit(X[labels[ind_n] == 0])\n",
    "labels_bulk = kmeans_bulk.predict(Y[labels == 0])\n",
    "# Check the correct ordering of liquid-solid inner atoms based on 1st component of gvector\n",
    "if Y[labels == 0][labels_bulk == 0].mean(axis = 0)[4] < Y[labels == 0][labels_bulk == 1].mean(axis = 0)[4]:\n",
    "    print('Inverting bulk solid and bulk liquid labels')\n",
    "    labels_bulk = 1 - labels_bulk\n",
    "labels[labels==0] += labels_bulk\n",
    "    \n",
    "# Solid from liquid high-coordination surface\n",
    "kmeans_surface_hc = KMeans(n_clusters=k).fit(X[labels[ind_n] == 2])\n",
    "labels_surface_hc = kmeans_surface_hc.predict(Y[labels == 2])\n",
    "# Check the correct ordering of liquid-solid HS atoms on 1st component of gvector\n",
    "if Y[labels == 2][labels_surface_hc == 0].mean(axis = 0)[4] < Y[labels == 2][labels_surface_hc == 1].mean(axis = 0)[4]:\n",
    "    print('Inverting high- and low-coordination surface labels')\n",
    "    labels_surface_hc = 1 - labels_surface_hc\n",
    "labels[labels==2] += labels_surface_hc\n",
    "\n",
    "# Solid from liquid low-coordination surface\n",
    "kmeans_surface_lc = KMeans(n_clusters=k).fit(X[labels[ind_n] == 4])\n",
    "labels_surface_lc = kmeans_surface_hc.predict(Y[labels == 4])\n",
    "\n",
    "# Check the correct ordering of liquid-solid LS atoms based on 1st component of gvector\n",
    "if Y[labels == 4][labels_surface_lc == 0].mean(axis = 0)[4] < Y[labels == 4][labels_surface_lc == 1].mean(axis = 0)[4]:\n",
    "    print('Inverting high- and low-coordination surface labels')\n",
    "    labels_surface_lc = 1 - labels_surface_lc\n",
    "labels[labels==4] += labels_surface_lc"
   ]
  },
  {
   "cell_type": "markdown",
   "metadata": {},
   "source": [
    "## Store mean and standard deviation of the centroid of each cluster"
   ]
  },
  {
   "cell_type": "code",
   "execution_count": 8,
   "metadata": {},
   "outputs": [],
   "source": [
    "k = 6\n",
    "m = np.zeros((k, X.shape[1]))\n",
    "s = np.zeros((k, X.shape[1]))\n",
    "\n",
    "for i in np.arange(k):\n",
    "    m[i] = np.mean(Y[labels == i], axis = 0)\n",
    "    s[i] = np.std(Y[labels == i], axis = 0)\n",
    "\n",
    "clusters = {}\n",
    "clusters['means'] = m\n",
    "clusters['stds'] = s"
   ]
  },
  {
   "cell_type": "markdown",
   "metadata": {},
   "source": [
    "## Read traj and descriptors and cluster based on the centroids of the classes found"
   ]
  },
  {
   "cell_type": "code",
   "execution_count": 10,
   "metadata": {},
   "outputs": [],
   "source": [
    "gvect = np.load(f\"data/Au/example_G_cut_4.42.npy\", allow_pickle = True)[:, :-1]\n",
    "traj = read(f\"data/Au/example_clustered_k=4_cut=4.42.xyz\", index = ':')\n",
    "labels = get_labels(gvect, clusters)\n",
    "\n",
    "last = 0\n",
    "for i in np.arange(len(traj)):\n",
    "    nat = len(traj[0].get_atomic_numbers())\n",
    "    if i == 0:\n",
    "        traj[i].set_tags(labels[0:nat])\n",
    "    else:\n",
    "        traj[i].set_tags(labels[last:last + nat])\n",
    "    last += nat\n",
    "\n",
    "# Write output\n",
    "write_extxyz(f\"data/Au/example_labeled_cut=4.42.xyz\", traj, columns=[\n",
    "             'symbols', 'positions', 'tags'])"
   ]
  },
  {
   "cell_type": "code",
   "execution_count": null,
   "metadata": {},
   "outputs": [],
   "source": []
  }
 ],
 "metadata": {
  "kernelspec": {
   "display_name": "raffy",
   "language": "python",
   "name": "raffy"
  },
  "language_info": {
   "codemirror_mode": {
    "name": "ipython",
    "version": 3
   },
   "file_extension": ".py",
   "mimetype": "text/x-python",
   "name": "python",
   "nbconvert_exporter": "python",
   "pygments_lexer": "ipython3",
   "version": "3.8.5"
  }
 },
 "nbformat": 4,
 "nbformat_minor": 4
}
